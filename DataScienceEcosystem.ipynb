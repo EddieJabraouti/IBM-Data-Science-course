{
 "cells": [
  {
   "cell_type": "markdown",
   "id": "7a3762cc-ccf5-4c74-ba68-9cd0d9c9cbf3",
   "metadata": {},
   "source": [
    "<h1>Data Science Tools and Ecosystem</h1>"
   ]
  },
  {
   "cell_type": "markdown",
   "id": "91525f67-3354-48c0-a1f2-765190fe0a2a",
   "metadata": {},
   "source": [
    "In this notebook, Data Science Tools and Ecosystems are summarized."
   ]
  },
  {
   "cell_type": "markdown",
   "id": "8cf6c7ee-2084-4e9f-bad5-90beeedb9c5d",
   "metadata": {},
   "source": [
    "<p style=\"font-weight: bold\">Objectives:</p>\n",
    "<ul>\n",
    "    <li>List some popular languages for Data Science</li>\n",
    "    <li>List commonly used libraries by Data Scientists</li>\n",
    "    <li>Perform arithmetic operation in Python</li>\n",
    "</ul>"
   ]
  },
  {
   "cell_type": "markdown",
   "id": "268ae27a-e068-41af-b9ac-db2209902481",
   "metadata": {},
   "source": [
    "Some of the most popular languages that Data Scientists use are: \n",
    "<ol>\n",
    "<li>Python</li>\n",
    "<li>R</li>\n",
    "<li>SQL</li>\n",
    "</ol>"
   ]
  },
  {
   "cell_type": "markdown",
   "id": "57c61aaf-7205-432d-b731-9645e91c0746",
   "metadata": {},
   "source": [
    "Some of the commonly used libraries used by Data Scientists include: \n",
    "<ol>\n",
    "    <li>NumPy</li>\n",
    "    <li>Keras</li>\n",
    "    <li>Pandas</li>\n",
    "</ol>"
   ]
  },
  {
   "cell_type": "markdown",
   "id": "a62d159d-ea1b-4690-ac2a-9699336b0ff5",
   "metadata": {},
   "source": [
    "| Data Science Tools         |\n",
    "|:---------------------------|\n",
    "| Jupyter Notebook           |\n",
    "| RStudio                    |\n",
    "| VS Code                    |"
   ]
  },
  {
   "cell_type": "markdown",
   "id": "f763334e-d913-4916-b6dc-a0c81f9d4c8a",
   "metadata": {},
   "source": [
    "<h3>Below are a few examples of evaluating arithmatic expressions in Python</h3>"
   ]
  },
  {
   "cell_type": "code",
   "execution_count": 4,
   "id": "c5289dde-c85f-45e7-a50d-2de397b76d68",
   "metadata": {},
   "outputs": [
    {
     "data": {
      "text/plain": [
       "17"
      ]
     },
     "execution_count": 4,
     "metadata": {},
     "output_type": "execute_result"
    }
   ],
   "source": [
    "#This is a simple arithmetic expression to multiply then add integers\n",
    "\n",
    "(3*4)+5"
   ]
  },
  {
   "cell_type": "code",
   "execution_count": 6,
   "id": "8f5b5579-9838-4048-bd00-34096a3dc16b",
   "metadata": {},
   "outputs": [
    {
     "data": {
      "text/plain": [
       "3"
      ]
     },
     "execution_count": 6,
     "metadata": {},
     "output_type": "execute_result"
    }
   ],
   "source": [
    "#This will convert 200 minutes to hours by dividing by 60\n",
    "round(200 / 60)"
   ]
  },
  {
   "cell_type": "markdown",
   "id": "859ddad0-5fe7-45e2-a5be-3cd6d11491b3",
   "metadata": {},
   "source": [
    "<h2>Author</h2>\n",
    "<p>Eyad Jabraouti</p>"
   ]
  },
  {
   "cell_type": "code",
   "execution_count": null,
   "id": "c3de398d-7ec7-479f-84f8-ba3f688362de",
   "metadata": {},
   "outputs": [],
   "source": []
  }
 ],
 "metadata": {
  "kernelspec": {
   "display_name": "anaconda-2024.02-py310",
   "language": "python",
   "name": "conda-env-anaconda-2024.02-py310-py"
  },
  "language_info": {
   "codemirror_mode": {
    "name": "ipython",
    "version": 3
   },
   "file_extension": ".py",
   "mimetype": "text/x-python",
   "name": "python",
   "nbconvert_exporter": "python",
   "pygments_lexer": "ipython3",
   "version": "3.10.14"
  }
 },
 "nbformat": 4,
 "nbformat_minor": 5
}
